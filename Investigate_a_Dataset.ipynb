{
 "cells": [
  {
   "cell_type": "markdown",
   "metadata": {},
   "source": [
    "# Project: Investigate TMDb movie Dataset\n",
    "\n",
    "## Table of Contents\n",
    "<ul>\n",
    "<li><a href=\"#intro\">Introduction</a></li>\n",
    "<li><a href=\"#wrangling\">Data Wrangling</a></li>\n",
    "<li><a href=\"#eda\">Exploratory Data Analysis</a></li>\n",
    "<li><a href=\"#conclusions\">Conclusions</a></li>\n",
    "</ul>"
   ]
  },
  {
   "cell_type": "markdown",
   "metadata": {},
   "source": [
    "<a id='intro'></a>\n",
    "## Introduction\n",
    " In this project, I will try to perform a data analysis for approx 10,000 movies collected from The Movie Database (TMDb).The Movie Database (TMDb) is a community built movie and TV database\" https://www.themoviedb.org/about \". The primative descirbition of this dataset as follows 10866 rows and 21 columns. RangeIndex is  10866 entries, dtypes: float64(4), int64(6), object(11).\n",
    "Columns  to be used through our investigation are:-\n",
    ">1. budget \n",
    ">2. revenue \n",
    ">3. original_title\n",
    ">4. cast\n",
    ">5. director\n",
    ">6. runtime \n",
    ">7. genres \n",
    ">8. production_companies \n",
    ">9. vote_average \n",
    ">10. release_year\n",
    ">11. Profit column will be calcluated (revenue -budget)\n",
    "  \n",
    "### In this project , I will answer the following questions:\n",
    ">\n",
    ">1. Which genres are the most popular?\n",
    ">2. what are the longest and shortest movies?\n",
    ">3. Which year has the highest and lowest number of movies?\n",
    ">4. which year has the best average rating? \n",
    ">5. which year has the max and min profit?\n",
    ">6. what is the relation Profit,budget and revenue?\n",
    ">7. Which directors directed the highest number of movies?\n",
    ">8. Which directors achieved the heighest profit?\n",
    ">9. Which Actors acted the highest no. of movies?\n",
    "\n",
    "My investigation will result the film profitablity and its relation with other varibles in order to predict if there is a consistent formula for success in such industry or not. I will calculated profit by substract budget_adj from revenue_adj."
   ]
  },
  {
   "cell_type": "code",
   "execution_count": 1,
   "metadata": {},
   "outputs": [],
   "source": [
    "# Importing libraries\n",
    "import pandas as pd\n",
    "import numpy as np\n",
    "import matplotlib.pyplot as plt\n",
    "import seaborn as sns"
   ]
  },
  {
   "cell_type": "code",
   "execution_count": 2,
   "metadata": {},
   "outputs": [],
   "source": [
    "# Importing a 'magic word' to visualizations what we are plotted\n",
    "%matplotlib inline"
   ]
  },
  {
   "cell_type": "markdown",
   "metadata": {},
   "source": [
    "<a id='wrangling'></a>\n",
    "## Data Wrangling\n",
    "\n",
    "\n",
    "### General Properties"
   ]
  },
  {
   "cell_type": "markdown",
   "metadata": {},
   "source": [
    "### Load our original Data and creat data frame (df_movie)"
   ]
  },
  {
   "cell_type": "code",
   "execution_count": 3,
   "metadata": {},
   "outputs": [],
   "source": [
    "#read the csv file\n",
    "df_data1 = pd.read_csv(\"tmdb-movies.csv\")\n",
    "df_data=df_data1\n",
    "df_movie=df_data"
   ]
  },
  {
   "cell_type": "code",
   "execution_count": 4,
   "metadata": {},
   "outputs": [
    {
     "data": {
      "text/html": [
       "<div>\n",
       "<style scoped>\n",
       "    .dataframe tbody tr th:only-of-type {\n",
       "        vertical-align: middle;\n",
       "    }\n",
       "\n",
       "    .dataframe tbody tr th {\n",
       "        vertical-align: top;\n",
       "    }\n",
       "\n",
       "    .dataframe thead th {\n",
       "        text-align: right;\n",
       "    }\n",
       "</style>\n",
       "<table border=\"1\" class=\"dataframe\">\n",
       "  <thead>\n",
       "    <tr style=\"text-align: right;\">\n",
       "      <th></th>\n",
       "      <th>id</th>\n",
       "      <th>imdb_id</th>\n",
       "      <th>popularity</th>\n",
       "      <th>budget</th>\n",
       "      <th>revenue</th>\n",
       "      <th>original_title</th>\n",
       "      <th>cast</th>\n",
       "      <th>homepage</th>\n",
       "      <th>director</th>\n",
       "      <th>tagline</th>\n",
       "      <th>...</th>\n",
       "      <th>overview</th>\n",
       "      <th>runtime</th>\n",
       "      <th>genres</th>\n",
       "      <th>production_companies</th>\n",
       "      <th>release_date</th>\n",
       "      <th>vote_count</th>\n",
       "      <th>vote_average</th>\n",
       "      <th>release_year</th>\n",
       "      <th>budget_adj</th>\n",
       "      <th>revenue_adj</th>\n",
       "    </tr>\n",
       "  </thead>\n",
       "  <tbody>\n",
       "    <tr>\n",
       "      <th>0</th>\n",
       "      <td>135397</td>\n",
       "      <td>tt0369610</td>\n",
       "      <td>32.985763</td>\n",
       "      <td>150000000</td>\n",
       "      <td>1513528810</td>\n",
       "      <td>Jurassic World</td>\n",
       "      <td>Chris Pratt|Bryce Dallas Howard|Irrfan Khan|Vi...</td>\n",
       "      <td>http://www.jurassicworld.com/</td>\n",
       "      <td>Colin Trevorrow</td>\n",
       "      <td>The park is open.</td>\n",
       "      <td>...</td>\n",
       "      <td>Twenty-two years after the events of Jurassic ...</td>\n",
       "      <td>124</td>\n",
       "      <td>Action|Adventure|Science Fiction|Thriller</td>\n",
       "      <td>Universal Studios|Amblin Entertainment|Legenda...</td>\n",
       "      <td>6/9/15</td>\n",
       "      <td>5562</td>\n",
       "      <td>6.5</td>\n",
       "      <td>2015</td>\n",
       "      <td>1.379999e+08</td>\n",
       "      <td>1.392446e+09</td>\n",
       "    </tr>\n",
       "    <tr>\n",
       "      <th>1</th>\n",
       "      <td>76341</td>\n",
       "      <td>tt1392190</td>\n",
       "      <td>28.419936</td>\n",
       "      <td>150000000</td>\n",
       "      <td>378436354</td>\n",
       "      <td>Mad Max: Fury Road</td>\n",
       "      <td>Tom Hardy|Charlize Theron|Hugh Keays-Byrne|Nic...</td>\n",
       "      <td>http://www.madmaxmovie.com/</td>\n",
       "      <td>George Miller</td>\n",
       "      <td>What a Lovely Day.</td>\n",
       "      <td>...</td>\n",
       "      <td>An apocalyptic story set in the furthest reach...</td>\n",
       "      <td>120</td>\n",
       "      <td>Action|Adventure|Science Fiction|Thriller</td>\n",
       "      <td>Village Roadshow Pictures|Kennedy Miller Produ...</td>\n",
       "      <td>5/13/15</td>\n",
       "      <td>6185</td>\n",
       "      <td>7.1</td>\n",
       "      <td>2015</td>\n",
       "      <td>1.379999e+08</td>\n",
       "      <td>3.481613e+08</td>\n",
       "    </tr>\n",
       "  </tbody>\n",
       "</table>\n",
       "<p>2 rows × 21 columns</p>\n",
       "</div>"
      ],
      "text/plain": [
       "       id    imdb_id  popularity     budget     revenue      original_title  \\\n",
       "0  135397  tt0369610   32.985763  150000000  1513528810      Jurassic World   \n",
       "1   76341  tt1392190   28.419936  150000000   378436354  Mad Max: Fury Road   \n",
       "\n",
       "                                                cast  \\\n",
       "0  Chris Pratt|Bryce Dallas Howard|Irrfan Khan|Vi...   \n",
       "1  Tom Hardy|Charlize Theron|Hugh Keays-Byrne|Nic...   \n",
       "\n",
       "                        homepage         director             tagline  \\\n",
       "0  http://www.jurassicworld.com/  Colin Trevorrow   The park is open.   \n",
       "1    http://www.madmaxmovie.com/    George Miller  What a Lovely Day.   \n",
       "\n",
       "       ...                                                overview runtime  \\\n",
       "0      ...       Twenty-two years after the events of Jurassic ...     124   \n",
       "1      ...       An apocalyptic story set in the furthest reach...     120   \n",
       "\n",
       "                                      genres  \\\n",
       "0  Action|Adventure|Science Fiction|Thriller   \n",
       "1  Action|Adventure|Science Fiction|Thriller   \n",
       "\n",
       "                                production_companies release_date vote_count  \\\n",
       "0  Universal Studios|Amblin Entertainment|Legenda...       6/9/15       5562   \n",
       "1  Village Roadshow Pictures|Kennedy Miller Produ...      5/13/15       6185   \n",
       "\n",
       "   vote_average  release_year    budget_adj   revenue_adj  \n",
       "0           6.5          2015  1.379999e+08  1.392446e+09  \n",
       "1           7.1          2015  1.379999e+08  3.481613e+08  \n",
       "\n",
       "[2 rows x 21 columns]"
      ]
     },
     "execution_count": 4,
     "metadata": {},
     "output_type": "execute_result"
    }
   ],
   "source": [
    "#Perform operations to inspect data\n",
    "df_movie.head(2)"
   ]
  },
  {
   "cell_type": "code",
   "execution_count": 5,
   "metadata": {},
   "outputs": [
    {
     "name": "stdout",
     "output_type": "stream",
     "text": [
      "<class 'pandas.core.frame.DataFrame'>\n",
      "RangeIndex: 10866 entries, 0 to 10865\n",
      "Data columns (total 21 columns):\n",
      "id                      10866 non-null int64\n",
      "imdb_id                 10856 non-null object\n",
      "popularity              10866 non-null float64\n",
      "budget                  10866 non-null int64\n",
      "revenue                 10866 non-null int64\n",
      "original_title          10866 non-null object\n",
      "cast                    10790 non-null object\n",
      "homepage                2936 non-null object\n",
      "director                10822 non-null object\n",
      "tagline                 8042 non-null object\n",
      "keywords                9373 non-null object\n",
      "overview                10862 non-null object\n",
      "runtime                 10866 non-null int64\n",
      "genres                  10843 non-null object\n",
      "production_companies    9836 non-null object\n",
      "release_date            10866 non-null object\n",
      "vote_count              10866 non-null int64\n",
      "vote_average            10866 non-null float64\n",
      "release_year            10866 non-null int64\n",
      "budget_adj              10866 non-null float64\n",
      "revenue_adj             10866 non-null float64\n",
      "dtypes: float64(4), int64(6), object(11)\n",
      "memory usage: 1.7+ MB\n"
     ]
    }
   ],
   "source": [
    "# Get more info about data\n",
    "df_movie.info()"
   ]
  },
  {
   "cell_type": "code",
   "execution_count": 6,
   "metadata": {},
   "outputs": [
    {
     "data": {
      "text/plain": [
       "(10866, 21)"
      ]
     },
     "execution_count": 6,
     "metadata": {},
     "output_type": "execute_result"
    }
   ],
   "source": [
    "# show the dataframe shape\n",
    "df_movie.shape"
   ]
  },
  {
   "cell_type": "code",
   "execution_count": 7,
   "metadata": {},
   "outputs": [
    {
     "data": {
      "text/html": [
       "<div>\n",
       "<style scoped>\n",
       "    .dataframe tbody tr th:only-of-type {\n",
       "        vertical-align: middle;\n",
       "    }\n",
       "\n",
       "    .dataframe tbody tr th {\n",
       "        vertical-align: top;\n",
       "    }\n",
       "\n",
       "    .dataframe thead th {\n",
       "        text-align: right;\n",
       "    }\n",
       "</style>\n",
       "<table border=\"1\" class=\"dataframe\">\n",
       "  <thead>\n",
       "    <tr style=\"text-align: right;\">\n",
       "      <th></th>\n",
       "      <th>id</th>\n",
       "      <th>popularity</th>\n",
       "      <th>budget</th>\n",
       "      <th>revenue</th>\n",
       "      <th>runtime</th>\n",
       "      <th>vote_count</th>\n",
       "      <th>vote_average</th>\n",
       "      <th>release_year</th>\n",
       "      <th>budget_adj</th>\n",
       "      <th>revenue_adj</th>\n",
       "    </tr>\n",
       "  </thead>\n",
       "  <tbody>\n",
       "    <tr>\n",
       "      <th>count</th>\n",
       "      <td>10866.000000</td>\n",
       "      <td>10866.000000</td>\n",
       "      <td>1.086600e+04</td>\n",
       "      <td>1.086600e+04</td>\n",
       "      <td>10866.000000</td>\n",
       "      <td>10866.000000</td>\n",
       "      <td>10866.000000</td>\n",
       "      <td>10866.000000</td>\n",
       "      <td>1.086600e+04</td>\n",
       "      <td>1.086600e+04</td>\n",
       "    </tr>\n",
       "    <tr>\n",
       "      <th>mean</th>\n",
       "      <td>66064.177434</td>\n",
       "      <td>0.646441</td>\n",
       "      <td>1.462570e+07</td>\n",
       "      <td>3.982332e+07</td>\n",
       "      <td>102.070863</td>\n",
       "      <td>217.389748</td>\n",
       "      <td>5.974922</td>\n",
       "      <td>2001.322658</td>\n",
       "      <td>1.755104e+07</td>\n",
       "      <td>5.136436e+07</td>\n",
       "    </tr>\n",
       "    <tr>\n",
       "      <th>std</th>\n",
       "      <td>92130.136561</td>\n",
       "      <td>1.000185</td>\n",
       "      <td>3.091321e+07</td>\n",
       "      <td>1.170035e+08</td>\n",
       "      <td>31.381405</td>\n",
       "      <td>575.619058</td>\n",
       "      <td>0.935142</td>\n",
       "      <td>12.812941</td>\n",
       "      <td>3.430616e+07</td>\n",
       "      <td>1.446325e+08</td>\n",
       "    </tr>\n",
       "    <tr>\n",
       "      <th>min</th>\n",
       "      <td>5.000000</td>\n",
       "      <td>0.000065</td>\n",
       "      <td>0.000000e+00</td>\n",
       "      <td>0.000000e+00</td>\n",
       "      <td>0.000000</td>\n",
       "      <td>10.000000</td>\n",
       "      <td>1.500000</td>\n",
       "      <td>1960.000000</td>\n",
       "      <td>0.000000e+00</td>\n",
       "      <td>0.000000e+00</td>\n",
       "    </tr>\n",
       "    <tr>\n",
       "      <th>25%</th>\n",
       "      <td>10596.250000</td>\n",
       "      <td>0.207583</td>\n",
       "      <td>0.000000e+00</td>\n",
       "      <td>0.000000e+00</td>\n",
       "      <td>90.000000</td>\n",
       "      <td>17.000000</td>\n",
       "      <td>5.400000</td>\n",
       "      <td>1995.000000</td>\n",
       "      <td>0.000000e+00</td>\n",
       "      <td>0.000000e+00</td>\n",
       "    </tr>\n",
       "    <tr>\n",
       "      <th>50%</th>\n",
       "      <td>20669.000000</td>\n",
       "      <td>0.383856</td>\n",
       "      <td>0.000000e+00</td>\n",
       "      <td>0.000000e+00</td>\n",
       "      <td>99.000000</td>\n",
       "      <td>38.000000</td>\n",
       "      <td>6.000000</td>\n",
       "      <td>2006.000000</td>\n",
       "      <td>0.000000e+00</td>\n",
       "      <td>0.000000e+00</td>\n",
       "    </tr>\n",
       "    <tr>\n",
       "      <th>75%</th>\n",
       "      <td>75610.000000</td>\n",
       "      <td>0.713817</td>\n",
       "      <td>1.500000e+07</td>\n",
       "      <td>2.400000e+07</td>\n",
       "      <td>111.000000</td>\n",
       "      <td>145.750000</td>\n",
       "      <td>6.600000</td>\n",
       "      <td>2011.000000</td>\n",
       "      <td>2.085325e+07</td>\n",
       "      <td>3.369710e+07</td>\n",
       "    </tr>\n",
       "    <tr>\n",
       "      <th>max</th>\n",
       "      <td>417859.000000</td>\n",
       "      <td>32.985763</td>\n",
       "      <td>4.250000e+08</td>\n",
       "      <td>2.781506e+09</td>\n",
       "      <td>900.000000</td>\n",
       "      <td>9767.000000</td>\n",
       "      <td>9.200000</td>\n",
       "      <td>2015.000000</td>\n",
       "      <td>4.250000e+08</td>\n",
       "      <td>2.827124e+09</td>\n",
       "    </tr>\n",
       "  </tbody>\n",
       "</table>\n",
       "</div>"
      ],
      "text/plain": [
       "                  id    popularity        budget       revenue       runtime  \\\n",
       "count   10866.000000  10866.000000  1.086600e+04  1.086600e+04  10866.000000   \n",
       "mean    66064.177434      0.646441  1.462570e+07  3.982332e+07    102.070863   \n",
       "std     92130.136561      1.000185  3.091321e+07  1.170035e+08     31.381405   \n",
       "min         5.000000      0.000065  0.000000e+00  0.000000e+00      0.000000   \n",
       "25%     10596.250000      0.207583  0.000000e+00  0.000000e+00     90.000000   \n",
       "50%     20669.000000      0.383856  0.000000e+00  0.000000e+00     99.000000   \n",
       "75%     75610.000000      0.713817  1.500000e+07  2.400000e+07    111.000000   \n",
       "max    417859.000000     32.985763  4.250000e+08  2.781506e+09    900.000000   \n",
       "\n",
       "         vote_count  vote_average  release_year    budget_adj   revenue_adj  \n",
       "count  10866.000000  10866.000000  10866.000000  1.086600e+04  1.086600e+04  \n",
       "mean     217.389748      5.974922   2001.322658  1.755104e+07  5.136436e+07  \n",
       "std      575.619058      0.935142     12.812941  3.430616e+07  1.446325e+08  \n",
       "min       10.000000      1.500000   1960.000000  0.000000e+00  0.000000e+00  \n",
       "25%       17.000000      5.400000   1995.000000  0.000000e+00  0.000000e+00  \n",
       "50%       38.000000      6.000000   2006.000000  0.000000e+00  0.000000e+00  \n",
       "75%      145.750000      6.600000   2011.000000  2.085325e+07  3.369710e+07  \n",
       "max     9767.000000      9.200000   2015.000000  4.250000e+08  2.827124e+09  "
      ]
     },
     "execution_count": 7,
     "metadata": {},
     "output_type": "execute_result"
    }
   ],
   "source": [
    "#Generate descriptive statistics.\n",
    "df_movie.describe()"
   ]
  },
  {
   "cell_type": "markdown",
   "metadata": {},
   "source": [
    "## Data Cleaning "
   ]
  },
  {
   "cell_type": "code",
   "execution_count": 8,
   "metadata": {},
   "outputs": [],
   "source": [
    "# we won't need many columns so we will drop them\n",
    "df_movie=df_movie.drop([\"imdb_id\",\"homepage\",\"overview\",\"tagline\",\"keywords\",\"overview\"],axis=1)"
   ]
  },
  {
   "cell_type": "code",
   "execution_count": 9,
   "metadata": {},
   "outputs": [
    {
     "data": {
      "text/html": [
       "<div>\n",
       "<style scoped>\n",
       "    .dataframe tbody tr th:only-of-type {\n",
       "        vertical-align: middle;\n",
       "    }\n",
       "\n",
       "    .dataframe tbody tr th {\n",
       "        vertical-align: top;\n",
       "    }\n",
       "\n",
       "    .dataframe thead th {\n",
       "        text-align: right;\n",
       "    }\n",
       "</style>\n",
       "<table border=\"1\" class=\"dataframe\">\n",
       "  <thead>\n",
       "    <tr style=\"text-align: right;\">\n",
       "      <th></th>\n",
       "      <th>id</th>\n",
       "      <th>popularity</th>\n",
       "      <th>budget</th>\n",
       "      <th>revenue</th>\n",
       "      <th>original_title</th>\n",
       "      <th>cast</th>\n",
       "      <th>director</th>\n",
       "      <th>runtime</th>\n",
       "      <th>genres</th>\n",
       "      <th>production_companies</th>\n",
       "      <th>release_date</th>\n",
       "      <th>vote_count</th>\n",
       "      <th>vote_average</th>\n",
       "      <th>release_year</th>\n",
       "      <th>budget_adj</th>\n",
       "      <th>revenue_adj</th>\n",
       "    </tr>\n",
       "  </thead>\n",
       "  <tbody>\n",
       "    <tr>\n",
       "      <th>0</th>\n",
       "      <td>135397</td>\n",
       "      <td>32.985763</td>\n",
       "      <td>150000000</td>\n",
       "      <td>1513528810</td>\n",
       "      <td>Jurassic World</td>\n",
       "      <td>Chris Pratt|Bryce Dallas Howard|Irrfan Khan|Vi...</td>\n",
       "      <td>Colin Trevorrow</td>\n",
       "      <td>124</td>\n",
       "      <td>Action|Adventure|Science Fiction|Thriller</td>\n",
       "      <td>Universal Studios|Amblin Entertainment|Legenda...</td>\n",
       "      <td>6/9/15</td>\n",
       "      <td>5562</td>\n",
       "      <td>6.5</td>\n",
       "      <td>2015</td>\n",
       "      <td>1.379999e+08</td>\n",
       "      <td>1.392446e+09</td>\n",
       "    </tr>\n",
       "    <tr>\n",
       "      <th>1</th>\n",
       "      <td>76341</td>\n",
       "      <td>28.419936</td>\n",
       "      <td>150000000</td>\n",
       "      <td>378436354</td>\n",
       "      <td>Mad Max: Fury Road</td>\n",
       "      <td>Tom Hardy|Charlize Theron|Hugh Keays-Byrne|Nic...</td>\n",
       "      <td>George Miller</td>\n",
       "      <td>120</td>\n",
       "      <td>Action|Adventure|Science Fiction|Thriller</td>\n",
       "      <td>Village Roadshow Pictures|Kennedy Miller Produ...</td>\n",
       "      <td>5/13/15</td>\n",
       "      <td>6185</td>\n",
       "      <td>7.1</td>\n",
       "      <td>2015</td>\n",
       "      <td>1.379999e+08</td>\n",
       "      <td>3.481613e+08</td>\n",
       "    </tr>\n",
       "    <tr>\n",
       "      <th>2</th>\n",
       "      <td>262500</td>\n",
       "      <td>13.112507</td>\n",
       "      <td>110000000</td>\n",
       "      <td>295238201</td>\n",
       "      <td>Insurgent</td>\n",
       "      <td>Shailene Woodley|Theo James|Kate Winslet|Ansel...</td>\n",
       "      <td>Robert Schwentke</td>\n",
       "      <td>119</td>\n",
       "      <td>Adventure|Science Fiction|Thriller</td>\n",
       "      <td>Summit Entertainment|Mandeville Films|Red Wago...</td>\n",
       "      <td>3/18/15</td>\n",
       "      <td>2480</td>\n",
       "      <td>6.3</td>\n",
       "      <td>2015</td>\n",
       "      <td>1.012000e+08</td>\n",
       "      <td>2.716190e+08</td>\n",
       "    </tr>\n",
       "  </tbody>\n",
       "</table>\n",
       "</div>"
      ],
      "text/plain": [
       "       id  popularity     budget     revenue      original_title  \\\n",
       "0  135397   32.985763  150000000  1513528810      Jurassic World   \n",
       "1   76341   28.419936  150000000   378436354  Mad Max: Fury Road   \n",
       "2  262500   13.112507  110000000   295238201           Insurgent   \n",
       "\n",
       "                                                cast          director  \\\n",
       "0  Chris Pratt|Bryce Dallas Howard|Irrfan Khan|Vi...   Colin Trevorrow   \n",
       "1  Tom Hardy|Charlize Theron|Hugh Keays-Byrne|Nic...     George Miller   \n",
       "2  Shailene Woodley|Theo James|Kate Winslet|Ansel...  Robert Schwentke   \n",
       "\n",
       "   runtime                                     genres  \\\n",
       "0      124  Action|Adventure|Science Fiction|Thriller   \n",
       "1      120  Action|Adventure|Science Fiction|Thriller   \n",
       "2      119         Adventure|Science Fiction|Thriller   \n",
       "\n",
       "                                production_companies release_date  vote_count  \\\n",
       "0  Universal Studios|Amblin Entertainment|Legenda...       6/9/15        5562   \n",
       "1  Village Roadshow Pictures|Kennedy Miller Produ...      5/13/15        6185   \n",
       "2  Summit Entertainment|Mandeville Films|Red Wago...      3/18/15        2480   \n",
       "\n",
       "   vote_average  release_year    budget_adj   revenue_adj  \n",
       "0           6.5          2015  1.379999e+08  1.392446e+09  \n",
       "1           7.1          2015  1.379999e+08  3.481613e+08  \n",
       "2           6.3          2015  1.012000e+08  2.716190e+08  "
      ]
     },
     "execution_count": 9,
     "metadata": {},
     "output_type": "execute_result"
    }
   ],
   "source": [
    "# confim drop columns\n",
    "df_movie.head(3)"
   ]
  },
  {
   "cell_type": "code",
   "execution_count": 10,
   "metadata": {},
   "outputs": [
    {
     "data": {
      "text/plain": [
       "(10866, 16)"
      ]
     },
     "execution_count": 10,
     "metadata": {},
     "output_type": "execute_result"
    }
   ],
   "source": [
    "# examine the shape of data frame\n",
    "df_movie.shape"
   ]
  },
  {
   "cell_type": "code",
   "execution_count": 11,
   "metadata": {},
   "outputs": [
    {
     "data": {
      "text/plain": [
       "1"
      ]
     },
     "execution_count": 11,
     "metadata": {},
     "output_type": "execute_result"
    }
   ],
   "source": [
    "# looking for duplicates\n",
    "df_movie.duplicated().sum()"
   ]
  },
  {
   "cell_type": "code",
   "execution_count": 12,
   "metadata": {},
   "outputs": [],
   "source": [
    "# Remove the Null value for production_companies,cast, director and genres\n",
    "df_movie= df_movie[df_movie[\"production_companies\"].notnull()]\n",
    "df_movie= df_movie[df_movie[\"cast\"].notnull()]\n",
    "df_movie= df_movie[df_movie[\"director\"].notnull()]\n",
    "df_movie= df_movie[df_movie[\"genres\"].notnull()]\n"
   ]
  },
  {
   "cell_type": "code",
   "execution_count": 13,
   "metadata": {},
   "outputs": [
    {
     "data": {
      "text/plain": [
       "(9773, 16)"
      ]
     },
     "execution_count": 13,
     "metadata": {},
     "output_type": "execute_result"
    }
   ],
   "source": [
    "# examine the shape of data frame after remove null in  production_companies,cast, director and genres\n",
    "df_movie.shape"
   ]
  },
  {
   "cell_type": "code",
   "execution_count": 14,
   "metadata": {},
   "outputs": [
    {
     "data": {
      "text/plain": [
       "id                      0\n",
       "popularity              0\n",
       "budget                  0\n",
       "revenue                 0\n",
       "original_title          0\n",
       "cast                    0\n",
       "director                0\n",
       "runtime                 0\n",
       "genres                  0\n",
       "production_companies    0\n",
       "release_date            0\n",
       "vote_count              0\n",
       "vote_average            0\n",
       "release_year            0\n",
       "budget_adj              0\n",
       "revenue_adj             0\n",
       "dtype: int64"
      ]
     },
     "execution_count": 14,
     "metadata": {},
     "output_type": "execute_result"
    }
   ],
   "source": [
    "# Looking for missing values\n",
    "df_movie.isna().sum()\n"
   ]
  },
  {
   "cell_type": "code",
   "execution_count": 15,
   "metadata": {},
   "outputs": [
    {
     "name": "stdout",
     "output_type": "stream",
     "text": [
      "<class 'pandas.core.frame.DataFrame'>\n",
      "Int64Index: 9773 entries, 0 to 10865\n",
      "Data columns (total 16 columns):\n",
      "id                      9773 non-null int64\n",
      "popularity              9773 non-null float64\n",
      "budget                  9773 non-null int64\n",
      "revenue                 9773 non-null int64\n",
      "original_title          9773 non-null object\n",
      "cast                    9773 non-null object\n",
      "director                9773 non-null object\n",
      "runtime                 9773 non-null int64\n",
      "genres                  9773 non-null object\n",
      "production_companies    9773 non-null object\n",
      "release_date            9773 non-null object\n",
      "vote_count              9773 non-null int64\n",
      "vote_average            9773 non-null float64\n",
      "release_year            9773 non-null int64\n",
      "budget_adj              9773 non-null float64\n",
      "revenue_adj             9773 non-null float64\n",
      "dtypes: float64(4), int64(6), object(6)\n",
      "memory usage: 1.3+ MB\n"
     ]
    }
   ],
   "source": [
    "# Examine the null again\n",
    "df_movie.info()"
   ]
  },
  {
   "cell_type": "code",
   "execution_count": 16,
   "metadata": {},
   "outputs": [],
   "source": [
    "# Create data frame df_gen for genres and using pandas Dummies to eliminate (|)\n",
    "df_gen=df_movie['genres'].str.get_dummies(sep='|')"
   ]
  },
  {
   "cell_type": "code",
   "execution_count": 17,
   "metadata": {},
   "outputs": [],
   "source": [
    "#create new  profit data frame \n",
    "df_profit=df_data.copy()\n",
    "# creat profit column\n",
    "df_profit['profit']= df_data['revenue_adj'] - df_data['budget_adj']"
   ]
  },
  {
   "cell_type": "code",
   "execution_count": 18,
   "metadata": {},
   "outputs": [],
   "source": [
    "#create new  profit data frame (df_profit1) by dropping unwanted columns from (df_profit)\n",
    "df_profit1 =df_profit.drop([ 'imdb_id','homepage','tagline','original_title','release_date','cast','production_companies','genres','runtime','popularity','keywords', 'overview','vote_count', 'vote_average'],axis=1)"
   ]
  },
  {
   "cell_type": "code",
   "execution_count": 19,
   "metadata": {},
   "outputs": [],
   "source": [
    "df_dir =df_data.drop([ 'imdb_id','homepage','tagline','cast','production_companies','genres','runtime','popularity','keywords', 'overview','vote_count', 'vote_average','budget','revenue', 'budget_adj','revenue_adj'],axis=1)"
   ]
  },
  {
   "cell_type": "markdown",
   "metadata": {},
   "source": [
    "### Summery of Data  Wrangling \n",
    "Data Wrangling involve Identifying and dealing with missing values inaddation to transform the data to a more effective state to target the analysis thourgh these steps:\n",
    "\n",
    ">- Drop  unwanted  columns (imdb_id\",\"homepage\",\"overview\",\"tagline\",\"keywords\",\"overview\",\"release_date\",\"vote_count) from df_movie data frame.\n",
    ">- Look for instances of missing or possible errant data.\n",
    ">- Remove  Null  in columns (director , Production_companies , genres and  cast ) as it can't be fill(fillna method) with data like mean or data from above row .\n",
    ">- Examine the duplicate value( one value, no action taken in this step).\n",
    ">- create data frame (df_gen) for genres and using pandas Dummies to eliminate (|)\n",
    ">- Create new  profit data frame(df_profit1)by dropping unwated columns in df_profit.\n",
    ">- Create profit column(profit=revenue_adj - budget_adj) for fair comparison with old  movies reference to 2010 inflation.\n",
    ">- Create dataframe for director(df_dir) and drop unwated cloumns.\n",
    "\n"
   ]
  },
  {
   "cell_type": "markdown",
   "metadata": {},
   "source": [
    "<a id='eda'></a>\n",
    "## Exploratory Data Analysis\n",
    "In this section , I tried to answer the mentioned question in Introduction Section\n",
    "\n",
    "### Q.1. Which genres are the most popular?"
   ]
  },
  {
   "cell_type": "code",
   "execution_count": 20,
   "metadata": {},
   "outputs": [
    {
     "data": {
      "text/html": [
       "<div>\n",
       "<style scoped>\n",
       "    .dataframe tbody tr th:only-of-type {\n",
       "        vertical-align: middle;\n",
       "    }\n",
       "\n",
       "    .dataframe tbody tr th {\n",
       "        vertical-align: top;\n",
       "    }\n",
       "\n",
       "    .dataframe thead th {\n",
       "        text-align: right;\n",
       "    }\n",
       "</style>\n",
       "<table border=\"1\" class=\"dataframe\">\n",
       "  <thead>\n",
       "    <tr style=\"text-align: right;\">\n",
       "      <th></th>\n",
       "      <th>index</th>\n",
       "      <th>0</th>\n",
       "    </tr>\n",
       "  </thead>\n",
       "  <tbody>\n",
       "    <tr>\n",
       "      <th>0</th>\n",
       "      <td>Action</td>\n",
       "      <td>2236</td>\n",
       "    </tr>\n",
       "    <tr>\n",
       "      <th>1</th>\n",
       "      <td>Adventure</td>\n",
       "      <td>1384</td>\n",
       "    </tr>\n",
       "    <tr>\n",
       "      <th>2</th>\n",
       "      <td>Animation</td>\n",
       "      <td>617</td>\n",
       "    </tr>\n",
       "    <tr>\n",
       "      <th>3</th>\n",
       "      <td>Comedy</td>\n",
       "      <td>3433</td>\n",
       "    </tr>\n",
       "    <tr>\n",
       "      <th>4</th>\n",
       "      <td>Crime</td>\n",
       "      <td>1300</td>\n",
       "    </tr>\n",
       "    <tr>\n",
       "      <th>5</th>\n",
       "      <td>Documentary</td>\n",
       "      <td>317</td>\n",
       "    </tr>\n",
       "    <tr>\n",
       "      <th>6</th>\n",
       "      <td>Drama</td>\n",
       "      <td>4365</td>\n",
       "    </tr>\n",
       "    <tr>\n",
       "      <th>7</th>\n",
       "      <td>Family</td>\n",
       "      <td>1095</td>\n",
       "    </tr>\n",
       "    <tr>\n",
       "      <th>8</th>\n",
       "      <td>Fantasy</td>\n",
       "      <td>840</td>\n",
       "    </tr>\n",
       "    <tr>\n",
       "      <th>9</th>\n",
       "      <td>Foreign</td>\n",
       "      <td>120</td>\n",
       "    </tr>\n",
       "    <tr>\n",
       "      <th>10</th>\n",
       "      <td>History</td>\n",
       "      <td>306</td>\n",
       "    </tr>\n",
       "    <tr>\n",
       "      <th>11</th>\n",
       "      <td>Horror</td>\n",
       "      <td>1526</td>\n",
       "    </tr>\n",
       "    <tr>\n",
       "      <th>12</th>\n",
       "      <td>Music</td>\n",
       "      <td>339</td>\n",
       "    </tr>\n",
       "    <tr>\n",
       "      <th>13</th>\n",
       "      <td>Mystery</td>\n",
       "      <td>773</td>\n",
       "    </tr>\n",
       "    <tr>\n",
       "      <th>14</th>\n",
       "      <td>Romance</td>\n",
       "      <td>1570</td>\n",
       "    </tr>\n",
       "    <tr>\n",
       "      <th>15</th>\n",
       "      <td>Science Fiction</td>\n",
       "      <td>1137</td>\n",
       "    </tr>\n",
       "    <tr>\n",
       "      <th>16</th>\n",
       "      <td>TV Movie</td>\n",
       "      <td>132</td>\n",
       "    </tr>\n",
       "    <tr>\n",
       "      <th>17</th>\n",
       "      <td>Thriller</td>\n",
       "      <td>2747</td>\n",
       "    </tr>\n",
       "    <tr>\n",
       "      <th>18</th>\n",
       "      <td>War</td>\n",
       "      <td>258</td>\n",
       "    </tr>\n",
       "    <tr>\n",
       "      <th>19</th>\n",
       "      <td>Western</td>\n",
       "      <td>160</td>\n",
       "    </tr>\n",
       "  </tbody>\n",
       "</table>\n",
       "</div>"
      ],
      "text/plain": [
       "              index     0\n",
       "0            Action  2236\n",
       "1         Adventure  1384\n",
       "2         Animation   617\n",
       "3            Comedy  3433\n",
       "4             Crime  1300\n",
       "5       Documentary   317\n",
       "6             Drama  4365\n",
       "7            Family  1095\n",
       "8           Fantasy   840\n",
       "9           Foreign   120\n",
       "10          History   306\n",
       "11           Horror  1526\n",
       "12            Music   339\n",
       "13          Mystery   773\n",
       "14          Romance  1570\n",
       "15  Science Fiction  1137\n",
       "16         TV Movie   132\n",
       "17         Thriller  2747\n",
       "18              War   258\n",
       "19          Western   160"
      ]
     },
     "execution_count": 20,
     "metadata": {},
     "output_type": "execute_result"
    }
   ],
   "source": [
    "# remove the (|) from genres column \n",
    "df_gen1=df_gen.sum().reset_index()\n",
    "df_gen1"
   ]
  },
  {
   "cell_type": "markdown",
   "metadata": {},
   "source": [
    "### Plotting  a Bar plot between Genres and Counts over Years."
   ]
  },
  {
   "cell_type": "code",
   "execution_count": 21,
   "metadata": {},
   "outputs": [
    {
     "data": {
      "text/plain": [
       "<function matplotlib.pyplot.show(*args, **kw)>"
      ]
     },
     "execution_count": 21,
     "metadata": {},
     "output_type": "execute_result"
    },
    {
     "data": {
      "image/png": "[encoded data removed]",
      "text/plain": [
       "<matplotlib.figure.Figure at 0x7ff979cc3f28>"
      ]
     },
     "metadata": {
      "needs_background": "light"
     },
     "output_type": "display_data"
    }
   ],
   "source": [
    "#setup the figure size.\n",
    "plt.figure(figsize=(30,15))\n",
    "# plot the Df_gen\n",
    "sns.barplot(x=df_gen.columns, y=df_gen.sum(), data=df_gen1, palette='plasma_r')\n",
    "# plot labels for title, x and y axis\n",
    "plt.ylabel('Counts over Years')\n",
    "plt.xlabel(\"Genres\", fontsize=30)\n",
    "plt.title('The Most Popular Genres',fontsize=30)\n",
    "plt.show"
   ]
  },
  {
   "cell_type": "markdown",
   "metadata": {},
   "source": [
    "### * From the above figure it's appeared that Drama is the most popular genres over the years."
   ]
  },
  {
   "cell_type": "markdown",
   "metadata": {},
   "source": [
    "### Q. 2. What are the longest and shortest movies?"
   ]
  },
  {
   "cell_type": "code",
   "execution_count": 22,
   "metadata": {},
   "outputs": [
    {
     "data": {
      "image/png": "[encoded data removed]",
      "text/plain": [
       "<matplotlib.figure.Figure at 0x7ff979ddc908>"
      ]
     },
     "metadata": {
      "needs_background": "light"
     },
     "output_type": "display_data"
    }
   ],
   "source": [
    "# Create new dataFrame with two columns for runtime and movie title\n",
    "df_movie_runtime = pd.DataFrame(df_data[\"runtime\"].sort_values(ascending=False))\n",
    "df_movie_runtime['original_title'] = df_data['original_title'].apply(lambda x: str(x))\n",
    "df_long= df_movie_runtime.head(15)\n",
    "\n",
    "#plot figure for the longest 15 movies runtime\n",
    "sns.barplot(x=df_long[\"original_title\"], y=df_long[\"runtime\"], data=df_long);\n",
    "# plot labels for title, x and y axis\n",
    "plt.title(\"Top 15 longest movies runtime\",fontsize = 20);\n",
    "plt.ylabel('Movie Title',fontsize = 16);\n",
    "plt.xlabel('Movie duration ( min)',fontsize = 16);\n",
    "# change the oratation of xticks to 90\n",
    "plt.xticks(rotation=90)\n",
    "plt.show()"
   ]
  },
  {
   "cell_type": "markdown",
   "metadata": {},
   "source": [
    "### * It appered from the figure that the longest 15 movies as follows:\n",
    "\t   Runtime(min)   Title of movie\n",
    ">*  900    -The Story of Film: An Odyssey\n",
    ">*\t877\t   -Taken\n",
    ">*\t705\t   -Band of Brothers\n",
    ">*\t566\t   -Shoah\n",
    ">*\t561\t   -North and South, Book I\n",
    ">*\t550\t   -Planet Earth\n",
    ">*\t540\t   -The Pacific\n",
    ">*\t501\t   -John Adams\n",
    ">*\t500\t   -Life\n",
    ">*\t470\t   -Generation Kill\n",
    ">*\t421\t   -The Pillars of the Earth\n",
    ">*\t417\t   -The 10th Kingdom\n",
    ">*\t400\t   -The Blue Planet\n",
    ">*\t400\t   -Crystal Lake Memories: The Complete History of...\n",
    ">*\t389\t   -World Without End\n"
   ]
  },
  {
   "cell_type": "code",
   "execution_count": 23,
   "metadata": {},
   "outputs": [
    {
     "data": {
      "text/html": [
       "<div>\n",
       "<style scoped>\n",
       "    .dataframe tbody tr th:only-of-type {\n",
       "        vertical-align: middle;\n",
       "    }\n",
       "\n",
       "    .dataframe tbody tr th {\n",
       "        vertical-align: top;\n",
       "    }\n",
       "\n",
       "    .dataframe thead th {\n",
       "        text-align: right;\n",
       "    }\n",
       "</style>\n",
       "<table border=\"1\" class=\"dataframe\">\n",
       "  <thead>\n",
       "    <tr style=\"text-align: right;\">\n",
       "      <th></th>\n",
       "      <th>runtime</th>\n",
       "      <th>original_title</th>\n",
       "    </tr>\n",
       "  </thead>\n",
       "  <tbody>\n",
       "    <tr>\n",
       "      <th>3894</th>\n",
       "      <td>900</td>\n",
       "      <td>The Story of Film: An Odyssey</td>\n",
       "    </tr>\n",
       "    <tr>\n",
       "      <th>4041</th>\n",
       "      <td>877</td>\n",
       "      <td>Taken</td>\n",
       "    </tr>\n",
       "    <tr>\n",
       "      <th>2722</th>\n",
       "      <td>705</td>\n",
       "      <td>Band of Brothers</td>\n",
       "    </tr>\n",
       "    <tr>\n",
       "      <th>6176</th>\n",
       "      <td>566</td>\n",
       "      <td>Shoah</td>\n",
       "    </tr>\n",
       "    <tr>\n",
       "      <th>6181</th>\n",
       "      <td>561</td>\n",
       "      <td>North and South, Book I</td>\n",
       "    </tr>\n",
       "    <tr>\n",
       "      <th>6894</th>\n",
       "      <td>550</td>\n",
       "      <td>Planet Earth</td>\n",
       "    </tr>\n",
       "    <tr>\n",
       "      <th>2214</th>\n",
       "      <td>540</td>\n",
       "      <td>The Pacific</td>\n",
       "    </tr>\n",
       "    <tr>\n",
       "      <th>3356</th>\n",
       "      <td>501</td>\n",
       "      <td>John Adams</td>\n",
       "    </tr>\n",
       "    <tr>\n",
       "      <th>1865</th>\n",
       "      <td>500</td>\n",
       "      <td>Life</td>\n",
       "    </tr>\n",
       "    <tr>\n",
       "      <th>3141</th>\n",
       "      <td>470</td>\n",
       "      <td>Generation Kill</td>\n",
       "    </tr>\n",
       "    <tr>\n",
       "      <th>2170</th>\n",
       "      <td>421</td>\n",
       "      <td>The Pillars of the Earth</td>\n",
       "    </tr>\n",
       "    <tr>\n",
       "      <th>8766</th>\n",
       "      <td>417</td>\n",
       "      <td>The 10th Kingdom</td>\n",
       "    </tr>\n",
       "    <tr>\n",
       "      <th>2843</th>\n",
       "      <td>400</td>\n",
       "      <td>The Blue Planet</td>\n",
       "    </tr>\n",
       "    <tr>\n",
       "      <th>6008</th>\n",
       "      <td>400</td>\n",
       "      <td>Crystal Lake Memories: The Complete History of...</td>\n",
       "    </tr>\n",
       "    <tr>\n",
       "      <th>4788</th>\n",
       "      <td>389</td>\n",
       "      <td>World Without End</td>\n",
       "    </tr>\n",
       "  </tbody>\n",
       "</table>\n",
       "</div>"
      ],
      "text/plain": [
       "      runtime                                     original_title\n",
       "3894      900                      The Story of Film: An Odyssey\n",
       "4041      877                                              Taken\n",
       "2722      705                                   Band of Brothers\n",
       "6176      566                                              Shoah\n",
       "6181      561                            North and South, Book I\n",
       "6894      550                                       Planet Earth\n",
       "2214      540                                        The Pacific\n",
       "3356      501                                         John Adams\n",
       "1865      500                                               Life\n",
       "3141      470                                    Generation Kill\n",
       "2170      421                           The Pillars of the Earth\n",
       "8766      417                                   The 10th Kingdom\n",
       "2843      400                                    The Blue Planet\n",
       "6008      400  Crystal Lake Memories: The Complete History of...\n",
       "4788      389                                  World Without End"
      ]
     },
     "execution_count": 23,
     "metadata": {},
     "output_type": "execute_result"
    }
   ],
   "source": [
    "#Top 15 longest movies runtime\n",
    "df_long"
   ]
  },
  {
   "cell_type": "code",
   "execution_count": 24,
   "metadata": {},
   "outputs": [
    {
     "name": "stdout",
     "output_type": "stream",
     "text": [
      "3894    The Story of Film: An Odyssey\n",
      "Name: original_title, dtype: object\n",
      "3894    900\n",
      "Name: runtime, dtype: int64\n"
     ]
    }
   ],
   "source": [
    "# Print the longest movie name with runtime  \n",
    "print (df_data.original_title[df_data.runtime==df_data.runtime.max()])\n",
    "print(df_data.runtime[df_data.runtime==df_data.runtime.max()])"
   ]
  },
  {
   "cell_type": "code",
   "execution_count": 25,
   "metadata": {},
   "outputs": [
    {
     "data": {
      "text/plain": [
       "(array([ 0,  1,  2,  3,  4,  5,  6,  7,  8,  9, 10, 11, 12, 13, 14]),\n",
       " <a list of 15 Text xticklabel objects>)"
      ]
     },
     "execution_count": 25,
     "metadata": {},
     "output_type": "execute_result"
    },
    {
     "data": {
      "image/png": "[encoded data removed]",
      "text/plain": [
       "<matplotlib.figure.Figure at 0x7ff979be6080>"
      ]
     },
     "metadata": {
      "needs_background": "light"
     },
     "output_type": "display_data"
    }
   ],
   "source": [
    "# For the shortest movie runtime, remove the movies with runtime=zero  in new data frame (df_short1).\n",
    "df_movie_runtime.drop(df_data.query('runtime==0').index,inplace=True)\n",
    "df_short1 = df_movie_runtime.tail(15)\n",
    "\n",
    "# plot bar Figure for shortest 15 movies runtime\n",
    "sns.barplot(x=df_short1[\"original_title\"],y=df_short1[\"runtime\"],data=df_short1,palette='nipy_spectral_r' );\n",
    "# plot labels for title, x and y axis\n",
    "plt.title(\"Top 15 shortest movies runtime\",fontsize = 20);\n",
    "plt.ylabel('Movie duration (min)',fontsize = 16);\n",
    "plt.xlabel('Movie Title',fontsize = 16);\n",
    "plt.xticks(rotation=90)"
   ]
  },
  {
   "cell_type": "code",
   "execution_count": 26,
   "metadata": {
    "scrolled": true
   },
   "outputs": [
    {
     "data": {
      "text/html": [
       "<div>\n",
       "<style scoped>\n",
       "    .dataframe tbody tr th:only-of-type {\n",
       "        vertical-align: middle;\n",
       "    }\n",
       "\n",
       "    .dataframe tbody tr th {\n",
       "        vertical-align: top;\n",
       "    }\n",
       "\n",
       "    .dataframe thead th {\n",
       "        text-align: right;\n",
       "    }\n",
       "</style>\n",
       "<table border=\"1\" class=\"dataframe\">\n",
       "  <thead>\n",
       "    <tr style=\"text-align: right;\">\n",
       "      <th></th>\n",
       "      <th>runtime</th>\n",
       "      <th>original_title</th>\n",
       "    </tr>\n",
       "  </thead>\n",
       "  <tbody>\n",
       "    <tr>\n",
       "      <th>2232</th>\n",
       "      <td>3</td>\n",
       "      <td>Scrat's Continental Crack-Up</td>\n",
       "    </tr>\n",
       "    <tr>\n",
       "      <th>6930</th>\n",
       "      <td>3</td>\n",
       "      <td>Kiwi!</td>\n",
       "    </tr>\n",
       "    <tr>\n",
       "      <th>2830</th>\n",
       "      <td>3</td>\n",
       "      <td>Shrek in the Swamp Karaoke Dance Party</td>\n",
       "    </tr>\n",
       "    <tr>\n",
       "      <th>5934</th>\n",
       "      <td>3</td>\n",
       "      <td>Prada: Candy</td>\n",
       "    </tr>\n",
       "    <tr>\n",
       "      <th>1112</th>\n",
       "      <td>3</td>\n",
       "      <td>Batman: Strange Days</td>\n",
       "    </tr>\n",
       "    <tr>\n",
       "      <th>3298</th>\n",
       "      <td>3</td>\n",
       "      <td>MamÃ¡</td>\n",
       "    </tr>\n",
       "    <tr>\n",
       "      <th>5399</th>\n",
       "      <td>3</td>\n",
       "      <td>Doodlebug</td>\n",
       "    </tr>\n",
       "    <tr>\n",
       "      <th>3891</th>\n",
       "      <td>3</td>\n",
       "      <td>Scrat's Continental Crack-Up: Part 2</td>\n",
       "    </tr>\n",
       "    <tr>\n",
       "      <th>8706</th>\n",
       "      <td>3</td>\n",
       "      <td>For the Birds</td>\n",
       "    </tr>\n",
       "    <tr>\n",
       "      <th>5993</th>\n",
       "      <td>3</td>\n",
       "      <td>Lights Out</td>\n",
       "    </tr>\n",
       "    <tr>\n",
       "      <th>10550</th>\n",
       "      <td>2</td>\n",
       "      <td>Luxo Jr.</td>\n",
       "    </tr>\n",
       "    <tr>\n",
       "      <th>7905</th>\n",
       "      <td>2</td>\n",
       "      <td>The Adventures of AndrÃ© and Wally B.</td>\n",
       "    </tr>\n",
       "    <tr>\n",
       "      <th>4883</th>\n",
       "      <td>2</td>\n",
       "      <td>Fresh Guacamole</td>\n",
       "    </tr>\n",
       "    <tr>\n",
       "      <th>4890</th>\n",
       "      <td>2</td>\n",
       "      <td>Cousin Ben Troop Screening</td>\n",
       "    </tr>\n",
       "    <tr>\n",
       "      <th>10754</th>\n",
       "      <td>2</td>\n",
       "      <td>Bambi Meets Godzilla</td>\n",
       "    </tr>\n",
       "  </tbody>\n",
       "</table>\n",
       "</div>"
      ],
      "text/plain": [
       "       runtime                          original_title\n",
       "2232         3            Scrat's Continental Crack-Up\n",
       "6930         3                                   Kiwi!\n",
       "2830         3  Shrek in the Swamp Karaoke Dance Party\n",
       "5934         3                            Prada: Candy\n",
       "1112         3                    Batman: Strange Days\n",
       "3298         3                                   MamÃ¡\n",
       "5399         3                               Doodlebug\n",
       "3891         3    Scrat's Continental Crack-Up: Part 2\n",
       "8706         3                           For the Birds\n",
       "5993         3                              Lights Out\n",
       "10550        2                                Luxo Jr.\n",
       "7905         2   The Adventures of AndrÃ© and Wally B.\n",
       "4883         2                         Fresh Guacamole\n",
       "4890         2              Cousin Ben Troop Screening\n",
       "10754        2                    Bambi Meets Godzilla"
      ]
     },
     "execution_count": 26,
     "metadata": {},
     "output_type": "execute_result"
    }
   ],
   "source": [
    "# show the list of 15 movies with the shortest runtime\n",
    "df_short1"
   ]
  },
  {
   "cell_type": "markdown",
   "metadata": {},
   "source": [
    "### It appered from the the figure that top 15 shortest movies runtime as follow:\n",
    ">- Scrat's Continental Crack-Up\n",
    ">-\tKiwi!\n",
    ">-\tShrek in the Swamp Karaoke Dance Party\n",
    ">-\tPrada: Candy\n",
    ">-\tBatman: Strange Days\n",
    ">-  MamÃ¡\n",
    ">-\tDoodlebug\n",
    ">-\tScrat's Continental Crack-Up: Part 2\n",
    ">- For the Birds\n",
    ">- Lights Out\n",
    ">- Luxo Jr.\n",
    ">- The Adventures of AndrÃ© and Wally B.\n",
    ">- Fresh Guacamole\n",
    ">- Cousin Ben Troop Screening\n",
    ">- Bambi Meets Godzilla"
   ]
  },
  {
   "cell_type": "markdown",
   "metadata": {},
   "source": [
    "### Q. 3.  Which year has the highest and lowest number of movies?"
   ]
  },
  {
   "cell_type": "code",
   "execution_count": 27,
   "metadata": {},
   "outputs": [
    {
     "data": {
      "image/png": "[encoded data removed]",
      "text/plain": [
       "<matplotlib.figure.Figure at 0x7ff979b28358>"
      ]
     },
     "metadata": {
      "needs_background": "light"
     },
     "output_type": "display_data"
    }
   ],
   "source": [
    "#Show visualization for the highest and lowest number of movies per year\n",
    "plt.figure(figsize=(20,15))\n",
    "sns.countplot(df_movie['release_year'],palette='spring')\n",
    "# plot labels for title, x and y axis\n",
    "plt.title('Movies Released Per Year', fontsize=30)\n",
    "plt.xlabel('Released Year',fontsize=30)\n",
    "plt.ylabel('Number of Movies',fontsize=30)\n",
    "plt.xticks(rotation=90)\n",
    "plt.show()"
   ]
  },
  {
   "cell_type": "code",
   "execution_count": 28,
   "metadata": {},
   "outputs": [
    {
     "name": "stdout",
     "output_type": "stream",
     "text": [
      "The heightest number of movies were released  in 2014 = 635 movies\n"
     ]
    }
   ],
   "source": [
    "print('The heightest number of movies were released  in 2014 =',format(df_movie['release_year'][df_movie['release_year']==2014].count()),\"movies\")"
   ]
  },
  {
   "cell_type": "code",
   "execution_count": 29,
   "metadata": {},
   "outputs": [
    {
     "name": "stdout",
     "output_type": "stream",
     "text": [
      "The lowest number of movies were released  in 1969 = 29 movies\n"
     ]
    }
   ],
   "source": [
    "print('The lowest number of movies were released  in 1969 =',format(df_movie['release_year'][df_movie['release_year']==1969].count()),\"movies\")"
   ]
  },
  {
   "cell_type": "markdown",
   "metadata": {},
   "source": [
    "### Q.4. which year has the best average rating?"
   ]
  },
  {
   "cell_type": "code",
   "execution_count": 30,
   "metadata": {},
   "outputs": [
    {
     "data": {
      "text/plain": [
       "Text(0.5,1,'Vote Counts per Years')"
      ]
     },
     "execution_count": 30,
     "metadata": {},
     "output_type": "execute_result"
    },
    {
     "data": {
      "image/png": "[encoded data removed]",
      "text/plain": [
       "<matplotlib.figure.Figure at 0x7ff979522668>"
      ]
     },
     "metadata": {
      "needs_background": "light"
     },
     "output_type": "display_data"
    }
   ],
   "source": [
    "#plot the number of movies produced per each(1960-2016)\n",
    "df_vote=df_data.groupby(\"release_year\").mean()[\"vote_average\"]\n",
    "#visualistion by using NumPy and seaborn\n",
    "df_vote.plot(xticks = np.arange(1960,2016,10))\n",
    "sns.set(style='dark', rc={'figure.figsize':(30,15)})\n",
    "\n",
    "# plot labels for title, x and y axis\n",
    "plt.ylabel('Vote counts',fontsize=40)\n",
    "plt.xlabel('Years',fontsize=40)\n",
    "plt.xticks(rotation=90)\n",
    "plt.title('Vote Counts per Years', fontsize=30)\n"
   ]
  },
  {
   "cell_type": "markdown",
   "metadata": {},
   "source": [
    "#### The figure shows max. vote counts per year at 1970"
   ]
  },
  {
   "cell_type": "code",
   "execution_count": 31,
   "metadata": {},
   "outputs": [
    {
     "name": "stdout",
     "output_type": "stream",
     "text": [
      "The best average rate = 6.703636363636363 in 1973 \n"
     ]
    }
   ],
   "source": [
    "print(\"The best average rate = {} in {} \".format(df_vote.max(), df_vote.idxmax()))\n",
    "      "
   ]
  },
  {
   "cell_type": "markdown",
   "metadata": {},
   "source": [
    "## Q.5.  Which year has the max and min profit?"
   ]
  },
  {
   "cell_type": "code",
   "execution_count": 32,
   "metadata": {},
   "outputs": [
    {
     "name": "stdout",
     "output_type": "stream",
     "text": [
      " Number of movies before deleting zero budgets and zero revenues movies =10866\n",
      " Number of movies after droping zero value for Budgets & revenues movies =3855\n"
     ]
    }
   ],
   "source": [
    "# Budget and revenue of the associated movie in terms of 2010 dollars, accounting for inflation overtime.\n",
    "#Check if there are budgets and revenues equal zero and delete them to avoid statistics mistakes.\n",
    "print(\" Number of movies before deleting zero budgets and zero revenues movies ={}\".format(df_profit.shape[0]))\n",
    "\n",
    "#filter all zero budget rows \n",
    "df_profit1= df_profit1[df_profit1[\"budget_adj\"]>0]\n",
    "\n",
    "#filter all zero revenue rows \n",
    "df_profit1= df_profit1[df_profit1[\"revenue_adj\"]>0]\n",
    "# Print remaining no. of rows after applying filters\n",
    "print(\" Number of movies after droping zero value for Budgets & revenues movies ={}\".format(df_profit1.shape[0]))\n"
   ]
  },
  {
   "cell_type": "code",
   "execution_count": 33,
   "metadata": {},
   "outputs": [
    {
     "data": {
      "text/html": [
       "<div>\n",
       "<style scoped>\n",
       "    .dataframe tbody tr th:only-of-type {\n",
       "        vertical-align: middle;\n",
       "    }\n",
       "\n",
       "    .dataframe tbody tr th {\n",
       "        vertical-align: top;\n",
       "    }\n",
       "\n",
       "    .dataframe thead th {\n",
       "        text-align: right;\n",
       "    }\n",
       "</style>\n",
       "<table border=\"1\" class=\"dataframe\">\n",
       "  <thead>\n",
       "    <tr style=\"text-align: right;\">\n",
       "      <th></th>\n",
       "      <th>profit</th>\n",
       "      <th>original_title</th>\n",
       "    </tr>\n",
       "  </thead>\n",
       "  <tbody>\n",
       "    <tr>\n",
       "      <th>1329</th>\n",
       "      <td>2.750137e+09</td>\n",
       "      <td>Star Wars 1977</td>\n",
       "    </tr>\n",
       "    <tr>\n",
       "      <th>1386</th>\n",
       "      <td>2.586237e+09</td>\n",
       "      <td>Avatar 2009</td>\n",
       "    </tr>\n",
       "    <tr>\n",
       "      <th>5231</th>\n",
       "      <td>2.234714e+09</td>\n",
       "      <td>Titanic 1997</td>\n",
       "    </tr>\n",
       "    <tr>\n",
       "      <th>10594</th>\n",
       "      <td>2.128036e+09</td>\n",
       "      <td>The Exorcist 1973</td>\n",
       "    </tr>\n",
       "    <tr>\n",
       "      <th>9806</th>\n",
       "      <td>1.878643e+09</td>\n",
       "      <td>Jaws 1975</td>\n",
       "    </tr>\n",
       "    <tr>\n",
       "      <th>8889</th>\n",
       "      <td>1.767968e+09</td>\n",
       "      <td>E.T. the Extra-Terrestrial 1982</td>\n",
       "    </tr>\n",
       "    <tr>\n",
       "      <th>3</th>\n",
       "      <td>1.718723e+09</td>\n",
       "      <td>Star Wars: The Force Awakens 2015</td>\n",
       "    </tr>\n",
       "    <tr>\n",
       "      <th>8094</th>\n",
       "      <td>1.551568e+09</td>\n",
       "      <td>The Net 1995</td>\n",
       "    </tr>\n",
       "    <tr>\n",
       "      <th>10110</th>\n",
       "      <td>1.545635e+09</td>\n",
       "      <td>One Hundred and One Dalmatians 1961</td>\n",
       "    </tr>\n",
       "    <tr>\n",
       "      <th>7309</th>\n",
       "      <td>1.376998e+09</td>\n",
       "      <td>The Empire Strikes Back 1980</td>\n",
       "    </tr>\n",
       "  </tbody>\n",
       "</table>\n",
       "</div>"
      ],
      "text/plain": [
       "             profit                       original_title\n",
       "1329   2.750137e+09                       Star Wars 1977\n",
       "1386   2.586237e+09                          Avatar 2009\n",
       "5231   2.234714e+09                         Titanic 1997\n",
       "10594  2.128036e+09                    The Exorcist 1973\n",
       "9806   1.878643e+09                            Jaws 1975\n",
       "8889   1.767968e+09      E.T. the Extra-Terrestrial 1982\n",
       "3      1.718723e+09    Star Wars: The Force Awakens 2015\n",
       "8094   1.551568e+09                         The Net 1995\n",
       "10110  1.545635e+09  One Hundred and One Dalmatians 1961\n",
       "7309   1.376998e+09         The Empire Strikes Back 1980"
      ]
     },
     "execution_count": 33,
     "metadata": {},
     "output_type": "execute_result"
    }
   ],
   "source": [
    "#create data frame for Max profit  \n",
    "df_profit = pd.DataFrame( df_profit['profit'].sort_values(ascending=False))\n",
    "df_profit['original_title'] = df_data['original_title'] +\" \"+ df_data['release_year'].apply(lambda x: str(x))\n",
    "Max_profit = df_profit.head(10)\n",
    "Max_profit"
   ]
  },
  {
   "cell_type": "markdown",
   "metadata": {},
   "source": [
    "#### The movie named Star Wars released in  1977 achieved 2.750137e+09 US$"
   ]
  },
  {
   "cell_type": "code",
   "execution_count": 34,
   "metadata": {},
   "outputs": [],
   "source": [
    "# creat dta frame df2 from df_profit by dropping additional columns\n",
    "df2=df_profit1.drop(['budget','revenue'],axis=1)"
   ]
  },
  {
   "cell_type": "code",
   "execution_count": 35,
   "metadata": {},
   "outputs": [
    {
     "data": {
      "image/png": "[encoded data removed]",
      "text/plain": [
       "<matplotlib.figure.Figure at 0x7ff979447898>"
      ]
     },
     "metadata": {},
     "output_type": "display_data"
    }
   ],
   "source": [
    "#Draw the relation between Profit and Year\n",
    "plt.figure(figsize=(20,15))\n",
    "sns.countplot(df2['release_year'],palette='spring')\n",
    "#show label for  title, x axis and y-axis\n",
    "plt.title('Profit Per Year', fontsize=30)\n",
    "plt.xlabel('Released Year',fontsize=30)\n",
    "plt.ylabel('profit ($)',fontsize=30)\n",
    "plt.xticks(rotation=90)\n",
    "plt.show()"
   ]
  },
  {
   "cell_type": "code",
   "execution_count": 36,
   "metadata": {},
   "outputs": [
    {
     "name": "stdout",
     "output_type": "stream",
     "text": [
      "The max profit were achived in 2011 = 2750136650.92 $\n"
     ]
    }
   ],
   "source": [
    "print('The max profit were achived in 2011 =',df2['profit'].max(),\"$\")\n"
   ]
  },
  {
   "cell_type": "code",
   "execution_count": 37,
   "metadata": {},
   "outputs": [
    {
     "name": "stdout",
     "output_type": "stream",
     "text": [
      "The min profit were achived in 1960 = -413912431.0 $\n"
     ]
    }
   ],
   "source": [
    "print('The min profit were achived in 1960 =', df2['profit'].min(),\"$\")"
   ]
  },
  {
   "cell_type": "code",
   "execution_count": 38,
   "metadata": {},
   "outputs": [
    {
     "data": {
      "image/png": "[encoded data removed]",
      "text/plain": [
       "<matplotlib.figure.Figure at 0x7ff9793c6e10>"
      ]
     },
     "metadata": {},
     "output_type": "display_data"
    }
   ],
   "source": [
    "#plot a box figure for profit, budget and revenue with regard to inflation of 2010\n",
    "fig = plt.figure(figsize =(15, 10))\n",
    "profit=df_profit1['profit']\n",
    "budget=df_profit1['budget_adj']\n",
    "revenue=df_profit1['revenue_adj']\n",
    "box_plot_data=[profit,budget,revenue]\n",
    "box=plt.boxplot(box_plot_data,vert=0,patch_artist=True, labels=['Profit','Budget','Revenue'])\n",
    "colors = ['cyan', 'lightblue', 'tan']\n",
    "# Adding title \n",
    "plt.title(\"Relation between Profit, Budget & Revenue with regard to inflation of 2010\")\n",
    "plt.xlabel('Billion US$',fontsize=30)\n",
    "for patch, color in zip(box['boxes'], colors):\n",
    "    patch.set_facecolor(color)\n",
    "plt.show()\n"
   ]
  },
  {
   "cell_type": "markdown",
   "metadata": {},
   "source": [
    "### This box figure illustrate the relation between Profit, Budget and Revenue, which can be expressed in numbers as follow:\n",
    "\n",
    ">* mean of budget_adj= 4.423630e+07, max value = 4.250000e+08 and min value 9.693980e-01 US Dollar\n",
    ">* mean of Profit= 9.279309e+07, max value = 2.750137e+09 and min value -4.139124e+08 US dollar\n",
    ">* mean of revenue_adj= 1.370294e+08, max value = 2.827124e+09 and min value 2.370705e+00 US dollar\n"
   ]
  },
  {
   "cell_type": "code",
   "execution_count": 39,
   "metadata": {},
   "outputs": [
    {
     "data": {
      "text/html": [
       "<div>\n",
       "<style scoped>\n",
       "    .dataframe tbody tr th:only-of-type {\n",
       "        vertical-align: middle;\n",
       "    }\n",
       "\n",
       "    .dataframe tbody tr th {\n",
       "        vertical-align: top;\n",
       "    }\n",
       "\n",
       "    .dataframe thead th {\n",
       "        text-align: right;\n",
       "    }\n",
       "</style>\n",
       "<table border=\"1\" class=\"dataframe\">\n",
       "  <thead>\n",
       "    <tr style=\"text-align: right;\">\n",
       "      <th></th>\n",
       "      <th>id</th>\n",
       "      <th>budget</th>\n",
       "      <th>revenue</th>\n",
       "      <th>release_year</th>\n",
       "      <th>budget_adj</th>\n",
       "      <th>revenue_adj</th>\n",
       "      <th>profit</th>\n",
       "    </tr>\n",
       "  </thead>\n",
       "  <tbody>\n",
       "    <tr>\n",
       "      <th>count</th>\n",
       "      <td>3855.000000</td>\n",
       "      <td>3.855000e+03</td>\n",
       "      <td>3.855000e+03</td>\n",
       "      <td>3855.000000</td>\n",
       "      <td>3.855000e+03</td>\n",
       "      <td>3.855000e+03</td>\n",
       "      <td>3.855000e+03</td>\n",
       "    </tr>\n",
       "    <tr>\n",
       "      <th>mean</th>\n",
       "      <td>39888.783398</td>\n",
       "      <td>3.720183e+07</td>\n",
       "      <td>1.076589e+08</td>\n",
       "      <td>2001.263294</td>\n",
       "      <td>4.423630e+07</td>\n",
       "      <td>1.370294e+08</td>\n",
       "      <td>9.279309e+07</td>\n",
       "    </tr>\n",
       "    <tr>\n",
       "      <th>std</th>\n",
       "      <td>67213.815955</td>\n",
       "      <td>4.220291e+07</td>\n",
       "      <td>1.765248e+08</td>\n",
       "      <td>11.281989</td>\n",
       "      <td>4.480403e+07</td>\n",
       "      <td>2.160944e+08</td>\n",
       "      <td>1.940562e+08</td>\n",
       "    </tr>\n",
       "    <tr>\n",
       "      <th>min</th>\n",
       "      <td>5.000000</td>\n",
       "      <td>1.000000e+00</td>\n",
       "      <td>2.000000e+00</td>\n",
       "      <td>1960.000000</td>\n",
       "      <td>9.693980e-01</td>\n",
       "      <td>2.370705e+00</td>\n",
       "      <td>-4.139124e+08</td>\n",
       "    </tr>\n",
       "    <tr>\n",
       "      <th>25%</th>\n",
       "      <td>6074.000000</td>\n",
       "      <td>1.000000e+07</td>\n",
       "      <td>1.357645e+07</td>\n",
       "      <td>1995.000000</td>\n",
       "      <td>1.309053e+07</td>\n",
       "      <td>1.834123e+07</td>\n",
       "      <td>-1.507157e+06</td>\n",
       "    </tr>\n",
       "    <tr>\n",
       "      <th>50%</th>\n",
       "      <td>11322.000000</td>\n",
       "      <td>2.400000e+07</td>\n",
       "      <td>4.479322e+07</td>\n",
       "      <td>2004.000000</td>\n",
       "      <td>3.001558e+07</td>\n",
       "      <td>6.171861e+07</td>\n",
       "      <td>2.736550e+07</td>\n",
       "    </tr>\n",
       "    <tr>\n",
       "      <th>75%</th>\n",
       "      <td>38577.000000</td>\n",
       "      <td>5.000000e+07</td>\n",
       "      <td>1.241530e+08</td>\n",
       "      <td>2010.000000</td>\n",
       "      <td>6.061307e+07</td>\n",
       "      <td>1.632401e+08</td>\n",
       "      <td>1.074152e+08</td>\n",
       "    </tr>\n",
       "    <tr>\n",
       "      <th>max</th>\n",
       "      <td>417859.000000</td>\n",
       "      <td>4.250000e+08</td>\n",
       "      <td>2.781506e+09</td>\n",
       "      <td>2015.000000</td>\n",
       "      <td>4.250000e+08</td>\n",
       "      <td>2.827124e+09</td>\n",
       "      <td>2.750137e+09</td>\n",
       "    </tr>\n",
       "  </tbody>\n",
       "</table>\n",
       "</div>"
      ],
      "text/plain": [
       "                  id        budget       revenue  release_year    budget_adj  \\\n",
       "count    3855.000000  3.855000e+03  3.855000e+03   3855.000000  3.855000e+03   \n",
       "mean    39888.783398  3.720183e+07  1.076589e+08   2001.263294  4.423630e+07   \n",
       "std     67213.815955  4.220291e+07  1.765248e+08     11.281989  4.480403e+07   \n",
       "min         5.000000  1.000000e+00  2.000000e+00   1960.000000  9.693980e-01   \n",
       "25%      6074.000000  1.000000e+07  1.357645e+07   1995.000000  1.309053e+07   \n",
       "50%     11322.000000  2.400000e+07  4.479322e+07   2004.000000  3.001558e+07   \n",
       "75%     38577.000000  5.000000e+07  1.241530e+08   2010.000000  6.061307e+07   \n",
       "max    417859.000000  4.250000e+08  2.781506e+09   2015.000000  4.250000e+08   \n",
       "\n",
       "        revenue_adj        profit  \n",
       "count  3.855000e+03  3.855000e+03  \n",
       "mean   1.370294e+08  9.279309e+07  \n",
       "std    2.160944e+08  1.940562e+08  \n",
       "min    2.370705e+00 -4.139124e+08  \n",
       "25%    1.834123e+07 -1.507157e+06  \n",
       "50%    6.171861e+07  2.736550e+07  \n",
       "75%    1.632401e+08  1.074152e+08  \n",
       "max    2.827124e+09  2.750137e+09  "
      ]
     },
     "execution_count": 39,
     "metadata": {},
     "output_type": "execute_result"
    }
   ],
   "source": [
    "df_profit1.describe()"
   ]
  },
  {
   "cell_type": "markdown",
   "metadata": {},
   "source": [
    "### Q. 6. What is the relation between profit, budget and revenue?"
   ]
  },
  {
   "cell_type": "code",
   "execution_count": 40,
   "metadata": {},
   "outputs": [
    {
     "data": {
      "image/png": "[encoded data removed]",
      "text/plain": [
       "<matplotlib.figure.Figure at 0x7ff979447a90>"
      ]
     },
     "metadata": {},
     "output_type": "display_data"
    }
   ],
   "source": [
    "# plot heatmap between profit, budget and revenue to find the relation including inflation of 2010\n",
    "a=df_profit1.corr()\n",
    "plt.figure(figsize=(15,15))\n",
    "sns.heatmap(a,cmap='coolwarm', annot=True)\n",
    "plt.show()"
   ]
  },
  {
   "cell_type": "markdown",
   "metadata": {},
   "source": [
    "### From above heatmap, it is cleared that:\n",
    "\n",
    ">* The relation between increasing revenue and the high budget = 0.69\n",
    ">* The relation between profit and revenue is = 0.85\n",
    ">* The relation betwwen Buddget_adj and revenue_adj =0.57\n",
    ">* The relation betwwen profit and Buddget_adj= 0.4\n",
    ">* The relation betwwen Buddget_adj and budget= 0.96\n"
   ]
  },
  {
   "cell_type": "markdown",
   "metadata": {},
   "source": [
    "### Q.7. Which directors directed the highest no. of movies ?"
   ]
  },
  {
   "cell_type": "code",
   "execution_count": 41,
   "metadata": {},
   "outputs": [
    {
     "data": {
      "image/png": "[encoded data removed]",
      "text/plain": [
       "<matplotlib.figure.Figure at 0x7ff979548cf8>"
      ]
     },
     "metadata": {},
     "output_type": "display_data"
    }
   ],
   "source": [
    "#Plot bar figure between director and Number of Movies\n",
    "df_data['director'].value_counts().head(10).plot.bar(figsize=(15,10),color='Blue')\n",
    "\n",
    "#show labels of Title , Xand y axis\n",
    "plt.title('Movies Per Director', fontsize=30)\n",
    "plt.xlabel('Director',fontsize=30)\n",
    "plt.ylabel('Number of Movies',fontsize=30)\n",
    "plt.xticks(rotation=90)\n",
    "plt.show()"
   ]
  },
  {
   "cell_type": "markdown",
   "metadata": {},
   "source": [
    "### From the above bar figure , it is cleared that,  Woody Allen has directed the heighest number of movies = 45 movies."
   ]
  },
  {
   "cell_type": "code",
   "execution_count": 42,
   "metadata": {},
   "outputs": [
    {
     "data": {
      "text/plain": [
       "director\n",
       "Woody Allen          45\n",
       "Clint Eastwood       34\n",
       "Steven Spielberg     29\n",
       "Martin Scorsese      29\n",
       "Ridley Scott         23\n",
       "Steven Soderbergh    22\n",
       "Ron Howard           22\n",
       "Joel Schumacher      21\n",
       "Brian De Palma       20\n",
       "Wes Craven           19\n",
       "Name: original_title, dtype: int64"
      ]
     },
     "execution_count": 42,
     "metadata": {},
     "output_type": "execute_result"
    }
   ],
   "source": [
    "#Top 15 directors who directed the heighest number of movies  \n",
    "Top_10 = df_dir.groupby('director').original_title.count().sort_values(ascending=False).head(10)\n",
    "Top_10"
   ]
  },
  {
   "cell_type": "code",
   "execution_count": 43,
   "metadata": {},
   "outputs": [
    {
     "name": "stdout",
     "output_type": "stream",
     "text": [
      "The director who directed the highest no. of movies is Woody Allen with  45 movies\n"
     ]
    }
   ],
   "source": [
    "print('The director who directed the highest no. of movies is Woody Allen with ',Top_10.max(),'movies')"
   ]
  },
  {
   "cell_type": "markdown",
   "metadata": {},
   "source": [
    "### Q.8. Which directors achieved the heighest profit?"
   ]
  },
  {
   "cell_type": "code",
   "execution_count": 44,
   "metadata": {},
   "outputs": [
    {
     "data": {
      "text/html": [
       "<div>\n",
       "<style scoped>\n",
       "    .dataframe tbody tr th:only-of-type {\n",
       "        vertical-align: middle;\n",
       "    }\n",
       "\n",
       "    .dataframe tbody tr th {\n",
       "        vertical-align: top;\n",
       "    }\n",
       "\n",
       "    .dataframe thead th {\n",
       "        text-align: right;\n",
       "    }\n",
       "</style>\n",
       "<table border=\"1\" class=\"dataframe\">\n",
       "  <thead>\n",
       "    <tr style=\"text-align: right;\">\n",
       "      <th></th>\n",
       "      <th>profit</th>\n",
       "      <th>director</th>\n",
       "    </tr>\n",
       "  </thead>\n",
       "  <tbody>\n",
       "    <tr>\n",
       "      <th>1329</th>\n",
       "      <td>2.750137e+09</td>\n",
       "      <td>George Lucas</td>\n",
       "    </tr>\n",
       "    <tr>\n",
       "      <th>1386</th>\n",
       "      <td>2.586237e+09</td>\n",
       "      <td>James Cameron</td>\n",
       "    </tr>\n",
       "    <tr>\n",
       "      <th>5231</th>\n",
       "      <td>2.234714e+09</td>\n",
       "      <td>James Cameron</td>\n",
       "    </tr>\n",
       "    <tr>\n",
       "      <th>10594</th>\n",
       "      <td>2.128036e+09</td>\n",
       "      <td>William Friedkin</td>\n",
       "    </tr>\n",
       "    <tr>\n",
       "      <th>9806</th>\n",
       "      <td>1.878643e+09</td>\n",
       "      <td>Steven Spielberg</td>\n",
       "    </tr>\n",
       "  </tbody>\n",
       "</table>\n",
       "</div>"
      ],
      "text/plain": [
       "             profit          director\n",
       "1329   2.750137e+09      George Lucas\n",
       "1386   2.586237e+09     James Cameron\n",
       "5231   2.234714e+09     James Cameron\n",
       "10594  2.128036e+09  William Friedkin\n",
       "9806   1.878643e+09  Steven Spielberg"
      ]
     },
     "execution_count": 44,
     "metadata": {},
     "output_type": "execute_result"
    }
   ],
   "source": [
    "# Create new data frame filled with profit and directors data columns\n",
    "df_pro= df_data.copy()\n",
    "\n",
    "#Calculate profit in new data frame df_pro\n",
    "df_pro[\"profit\"]=df_pro[\"revenue_adj\"]-df_pro[\"budget_adj\"]\n",
    "df_pro_Dir = pd.DataFrame( df_pro[\"profit\"].sort_values(ascending=False))\n",
    "df_pro_Dir['director'] = df_data['director'] \n",
    "\n",
    "#show the 5 directors with achieved the high profit\n",
    "df_pro_Dir.head(5)"
   ]
  },
  {
   "cell_type": "code",
   "execution_count": 45,
   "metadata": {},
   "outputs": [
    {
     "name": "stdout",
     "output_type": "stream",
     "text": [
      "The director who achive the heighest profit is George Lucas with the effect of inflation of 2010 with  2750136650.92 $\n"
     ]
    }
   ],
   "source": [
    "print('The director who achive the heighest profit is George Lucas with the effect of inflation of 2010 with ', df_pro_Dir['profit'].max(),'$')"
   ]
  },
  {
   "cell_type": "markdown",
   "metadata": {},
   "source": [
    "### Q. 9. Which Actors achieved the highest number of movies?"
   ]
  },
  {
   "cell_type": "code",
   "execution_count": 46,
   "metadata": {},
   "outputs": [],
   "source": [
    "# create dataframe all_staff\n",
    "all_staff = df_data['cast'].str.cat(sep='|')\n",
    "# use pandas.Series.str.cat to split ('|') \n",
    "best_20_actors = pd.Series(all_staff.split('|')).value_counts().head(20)"
   ]
  },
  {
   "cell_type": "code",
   "execution_count": 47,
   "metadata": {},
   "outputs": [
    {
     "data": {
      "text/plain": [
       "Text(0,0.5,'Total Movies')"
      ]
     },
     "execution_count": 47,
     "metadata": {},
     "output_type": "execute_result"
    },
    {
     "data": {
      "image/png": "[encoded data removed]",
      "text/plain": [
       "<matplotlib.figure.Figure at 0x7ff979a99128>"
      ]
     },
     "metadata": {},
     "output_type": "display_data"
    }
   ],
   "source": [
    "# plot bar figure between Actor and  Total no. of movies\n",
    "best_20_actors.plot(kind='bar')\n",
    "# show labels of  tiltle, x and y axis\n",
    "plt.title(\"Actor Vs Total number of movies \",fontsize = 16);\n",
    "plt.xlabel('Actors',fontsize = 13);\n",
    "plt.ylabel('Total Movies',fontsize = 13)"
   ]
  },
  {
   "cell_type": "markdown",
   "metadata": {},
   "source": [
    "### Bar figure shows the relation between Actors and the number of movies. It  is cleared that  Robert De Niro  has 72 movie, so he is  on the top of 20 actors."
   ]
  },
  {
   "cell_type": "code",
   "execution_count": 48,
   "metadata": {},
   "outputs": [
    {
     "data": {
      "text/plain": [
       "Robert De Niro        72\n",
       "Samuel L. Jackson     71\n",
       "Bruce Willis          62\n",
       "Nicolas Cage          61\n",
       "Michael Caine         53\n",
       "Robin Williams        51\n",
       "John Cusack           50\n",
       "Morgan Freeman        49\n",
       "John Goodman          49\n",
       "Susan Sarandon        48\n",
       "Liam Neeson           48\n",
       "Alec Baldwin          47\n",
       "Julianne Moore        47\n",
       "Johnny Depp           46\n",
       "Tom Hanks             46\n",
       "Gene Hackman          46\n",
       "Christopher Walken    46\n",
       "Willem Dafoe          45\n",
       "Dennis Quaid          45\n",
       "Sylvester Stallone    45\n",
       "dtype: int64"
      ]
     },
     "execution_count": 48,
     "metadata": {},
     "output_type": "execute_result"
    }
   ],
   "source": [
    "# show the top 20 actors reference to the number of movie they participated\n",
    "best_20_actors"
   ]
  },
  {
   "cell_type": "markdown",
   "metadata": {},
   "source": [
    "<a id='conclusions'></a>\n",
    "## Conclusions\n",
    "\n",
    "Finally, we reached the end of our TMD dataset analyze journey to find out the recipe  or  a consistent formula for success in this industry if it's exist,through the answer of the mentioned questions inthe start of this exploring jouerny. My investigation came with answers as follow:\n",
    "\n",
    ">1. It's appeared that Drama is the most popular genres over the years\n",
    ">2. The Story of Film: An Odyssey with 900 min runtime is the longest movie ever although the average runtime is 102 min in this dataset.\n",
    ">3. The highest number of movies were released in 2014 = 635 movies.\n",
    ">4. The lowest number of movies were released in 1969 = 29 movies.\n",
    ">5. The best average rate = 6.703636363636363  was in 1973.\n",
    ">6. The max profit were achieved in 2011 =2544505847 US dollar (with the effect of inflation of 2010).\n",
    ">7. The min profit were achieved in 1960 = -413912431 US dollar(with the effect of inflation of 2010).\n",
    ">8. The director who directed the highest no. of movies is Woody Allen with 45 movies.\n",
    ">9. The director who achieve the highest profit is James Cameron with the effect of inflation of 2010 =2750136650.92 US dollar.\n",
    ">10. Robert De Niro achieved the highest no. of movies which is 72 movie.\n",
    ">11. Revenue has a strong relation with the budget as Movies with higher budgets shown a corresponding increase in the revenues as follows.\n",
    ">12. The relation between Profit , budget and revenue with and without effect of inflation of 2010:\n",
    ">>* The relation between increasing revenue and the high budget = 0.69\n",
    ">>* The relation between profit and revenue is = 0.85\n",
    ">>* The relation betwwen Buddget_adj and revenue_adj =0.57\n",
    ">>* The relation betwwen profit and Buddget_adj= 0.4\n",
    ">>* The relation betwwen Buddget_adj and budget= 0.96\n",
    "\n",
    "### limitations:\n",
    "\n",
    ">1. The  analysis is limited to only the provided TMBD Movies dataset. For example, the dataset does not confirm that every..  release of every director is listed.\n",
    ">2. There is no normalization or exchange rate or currency conversion is considered during this analysis and our analysis is        limited to the numerical values of revenue.\n",
    ">3. Dropping missing or Null values from variables of our interest might skew our analysis and could show unintentional bias        towards the relationship being analyzed. etc.\n"
   ]
  },
  {
   "cell_type": "markdown",
   "metadata": {},
   "source": [
    "## References\n",
    ">1. https://pandas.pydata.org/docs/user_guide/visualization.html\n",
    ">2. https://guides.github.com/features/mastering-markdown/\n",
    ">3. https://ipython.readthedocs.io/en/stable/interactive/magics.html\n",
    ">4. https://stats.stackexchange.com/questions/60856/what-is-the-best-way-to-visualize-relationship-between-discrete-and-continuous-v\n",
    ">5. https://www.geeksforgeeks.org/reshape-a-pandas-dataframe-using-stackunstack-and-melt-method/\n",
    ">6. https://www.kaggle.com/learn/python\n",
    ">7. https://nfpdiscussions.udacity.com/c/data-questions-hub/data-professional-track-questions-hub/35\n",
    ">8. https://github.com/adam-p/markdown-here/wiki/Markdown-Cheatsheet\n",
    ">9. https://pandas.pydata.org/docs/reference/api/pandas.Series.str.cat.html\n",
    ">10. http://ipython.readthedocs.io/en/stable/interactive/magics.html\n"
   ]
  },
  {
   "cell_type": "code",
   "execution_count": 49,
   "metadata": {},
   "outputs": [
    {
     "data": {
      "text/plain": [
       "0"
      ]
     },
     "execution_count": 49,
     "metadata": {},
     "output_type": "execute_result"
    }
   ],
   "source": [
    "from subprocess import call\n",
    "call(['python', '-m', 'nbconvert', 'Investigate_a_Dataset.ipynb'])"
   ]
  },
  {
   "cell_type": "code",
   "execution_count": null,
   "metadata": {},
   "outputs": [],
   "source": []
  }
 ],
 "metadata": {
  "kernelspec": {
   "display_name": "Python 3",
   "language": "python",
   "name": "python3"
  },
  "language_info": {
   "codemirror_mode": {
    "name": "ipython",
    "version": 3
   },
   "file_extension": ".py",
   "mimetype": "text/x-python",
   "name": "python",
   "nbconvert_exporter": "python",
   "pygments_lexer": "ipython3",
   "version": "3.6.3"
  }
 },
 "nbformat": 4,
 "nbformat_minor": 2
}
